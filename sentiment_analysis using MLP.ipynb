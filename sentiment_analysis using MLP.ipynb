{
 "cells": [
  {
   "cell_type": "code",
   "execution_count": 2,
   "metadata": {},
   "outputs": [
    {
     "name": "stderr",
     "output_type": "stream",
     "text": [
      "Using TensorFlow backend.\n"
     ]
    },
    {
     "name": "stdout",
     "output_type": "stream",
     "text": [
      "Downloading data from https://s3.amazonaws.com/text-datasets/imdb.npz\n",
      "17465344/17464789 [==============================] - 7s 0us/step\n",
      "25000\n",
      "25000\n",
      "Downloading data from https://s3.amazonaws.com/text-datasets/imdb_word_index.json\n",
      "1646592/1641221 [==============================] - 5s 3us/step\n"
     ]
    },
    {
     "name": "stderr",
     "output_type": "stream",
     "text": [
      "IOPub data rate exceeded.\n",
      "The notebook server will temporarily stop sending output\n",
      "to the client in order to avoid crashing it.\n",
      "To change this limit, set the config variable\n",
      "`--NotebookApp.iopub_data_rate_limit`.\n",
      "\n",
      "Current values:\n",
      "NotebookApp.iopub_data_rate_limit=1000000.0 (bytes/sec)\n",
      "NotebookApp.rate_limit_window=3.0 (secs)\n",
      "\n"
     ]
    },
    {
     "name": "stdout",
     "output_type": "stream",
     "text": [
      "(25000, 10000)\n",
      "(25000,)\n"
     ]
    }
   ],
   "source": [
    "from keras.datasets import imdb\n",
    "import numpy as np\n",
    "\n",
    "((XT, YT),(Xt, Yt)) = imdb.load_data(num_words=10000)\n",
    "print(len(XT))\n",
    "print(len(Xt))\n",
    "\n",
    "#get the associated integer values for the corresponding words\n",
    "word_idx= imdb.get_word_index()\n",
    "print(type(word_idx))\n",
    "print(type(word_idx.items()))\n",
    "print(word_idx)\n",
    "\n",
    "idx_word= dict([value, key] for (key, value) in word_idx.items())\n",
    "print(idx_word)\n",
    "\n",
    "actual_review = ' '.join([idx_word.get(idx-3,'?') for  idx in XT[0]])\n",
    "print(actual_review)\n",
    "\n",
    "#vectorize the sentences \n",
    "# the vocab size is 10000 , make sure every vector is implemented by a size of 10000\n",
    "\n",
    "def vectorize_sentences(sentence, dim=10000):\n",
    "  output= np.zeros((len(sentence), dim))\n",
    "\n",
    "  for i , idx in enumerate(sentence):\n",
    "    output[i,idx]= 1\n",
    "  return output\n",
    "\n",
    "Xtrain= vectorize_sentences(XT)\n",
    "Xtest= vectorize_sentences(Xt)\n",
    "\n",
    "print(Xtrain.shape)\n",
    "Ytrain= np.asarray(YT).astype('float32')\n",
    "Ytest= np.asarray(Yt).astype('float32')\n",
    "print(Yt.shape)\n",
    "\n"
   ]
  },
  {
   "cell_type": "markdown",
   "metadata": {},
   "source": [
    "# Define your model architecture\n",
    "-use fully connected dense layers with RelU activation\n",
    "\n",
    "-2 hidden layers with 16 units each\n",
    "\n",
    "-1 output layes with 1 unit\n",
    "\n",
    "\n"
   ]
  },
  {
   "cell_type": "code",
   "execution_count": 4,
   "metadata": {},
   "outputs": [
    {
     "name": "stdout",
     "output_type": "stream",
     "text": [
      "Model: \"sequential_2\"\n",
      "_________________________________________________________________\n",
      "Layer (type)                 Output Shape              Param #   \n",
      "=================================================================\n",
      "dense_4 (Dense)              (None, 16)                160016    \n",
      "_________________________________________________________________\n",
      "dense_5 (Dense)              (None, 16)                272       \n",
      "_________________________________________________________________\n",
      "dense_6 (Dense)              (None, 1)                 17        \n",
      "=================================================================\n",
      "Total params: 160,305\n",
      "Trainable params: 160,305\n",
      "Non-trainable params: 0\n",
      "_________________________________________________________________\n",
      "(5000, 10000)\n",
      "Train on 20000 samples, validate on 5000 samples\n",
      "Epoch 1/5\n",
      "20000/20000 [==============================] - 3s 135us/step - loss: 0.5104 - accuracy: 0.8184 - val_loss: 0.4294 - val_accuracy: 0.8166\n",
      "Epoch 2/5\n",
      "20000/20000 [==============================] - 3s 129us/step - loss: 0.3129 - accuracy: 0.9024 - val_loss: 0.3006 - val_accuracy: 0.8858\n",
      "Epoch 3/5\n",
      "20000/20000 [==============================] - 3s 130us/step - loss: 0.2290 - accuracy: 0.9233 - val_loss: 0.2753 - val_accuracy: 0.8872\n",
      "Epoch 4/5\n",
      "20000/20000 [==============================] - 2s 124us/step - loss: 0.1842 - accuracy: 0.9386 - val_loss: 0.3098 - val_accuracy: 0.8766\n",
      "Epoch 5/5\n",
      "20000/20000 [==============================] - 3s 132us/step - loss: 0.1550 - accuracy: 0.9475 - val_loss: 0.3104 - val_accuracy: 0.8776\n"
     ]
    },
    {
     "data": {
      "image/png": "[encoded data removed]",
      "text/plain": [
       "<Figure size 432x288 with 1 Axes>"
      ]
     },
     "metadata": {
      "needs_background": "light"
     },
     "output_type": "display_data"
    }
   ],
   "source": [
    "from keras.layers import Dense\n",
    "from keras import models\n",
    "\n",
    "#define the model \n",
    "\n",
    "model = models.Sequential()\n",
    "model.add(Dense(16, activation='relu', input_shape=(10000,)))\n",
    "model.add(Dense(16,activation='relu' ))\n",
    "model.add(Dense(1,activation='sigmoid'))\n",
    "\n",
    "\n",
    "\n",
    "#compile the model\n",
    "\n",
    "model.compile(optimizer='rmsprop', loss='binary_crossentropy', metrics=['accuracy'])\n",
    "model.summary()\n",
    "\n",
    "# Training and Validation\n",
    "\n",
    "x_val= Xtrain[:5000]\n",
    "x_train_new= Xtrain[5000:]\n",
    "\n",
    "y_val= Ytrain[:5000]\n",
    "y_train_new= Ytrain[5000:]\n",
    "print(x_val.shape)\n",
    "\n",
    "#training your model\n",
    "\n",
    "hist= model.fit(x_train_new, y_train_new,batch_size=512, epochs= 5, validation_data=(x_val, y_val) )\n",
    "\n",
    "# visualize our results\n",
    "\n",
    "import matplotlib.pyplot as plt\n",
    "h = hist.history\n",
    "\n",
    "plt.plot(h['loss'], label ='training loss')\n",
    "plt.plot(h['val_loss'], label='validation loss')\n",
    "plt.xlabel('epoch')\n",
    "plt.ylabel('loss')\n",
    "plt.legend()\n",
    "plt.show()\n",
    "\n"
   ]
  },
  {
   "cell_type": "code",
   "execution_count": 5,
   "metadata": {},
   "outputs": [
    {
     "name": "stdout",
     "output_type": "stream",
     "text": [
      "{'val_loss': [0.42935873456001283, 0.3006374450206757, 0.2753290483474731, 0.30980056190490723, 0.3104305304527283], 'val_accuracy': [0.8166000247001648, 0.8858000040054321, 0.8871999979019165, 0.8766000270843506, 0.8776000142097473], 'loss': [0.5104426965236664, 0.31287382864952085, 0.22901421589851378, 0.18421680529117584, 0.15497038826942444], 'accuracy': [0.81845, 0.90235, 0.92325, 0.9386, 0.9475]}\n"
     ]
    }
   ],
   "source": [
    "print (h)"
   ]
  },
  {
   "cell_type": "code",
   "execution_count": 6,
   "metadata": {},
   "outputs": [
    {
     "data": {
      "image/png": "[encoded data removed]",
      "text/plain": [
       "<Figure size 432x288 with 1 Axes>"
      ]
     },
     "metadata": {
      "needs_background": "light"
     },
     "output_type": "display_data"
    },
    {
     "name": "stdout",
     "output_type": "stream",
     "text": [
      "25000/25000 [==============================] - 4s 162us/step\n",
      "25000/25000 [==============================] - 4s 150us/step\n",
      "[[0.13755906]\n",
      " [0.9996117 ]\n",
      " [0.20925248]\n",
      " ...\n",
      " [0.06994438]\n",
      " [0.05662906]\n",
      " [0.2838338 ]]\n",
      "[[0.]\n",
      " [1.]\n",
      " [0.]\n",
      " ...\n",
      " [0.]\n",
      " [0.]\n",
      " [0.]]\n"
     ]
    }
   ],
   "source": [
    "plt.plot(h['accuracy'], label ='training accuracy')\n",
    "plt.plot(h['val_accuracy'], label='validation accuracy')\n",
    "plt.xlabel('epoch')\n",
    "plt.ylabel('accuracy')\n",
    "plt.legend()\n",
    "plt.show()\n",
    "\n",
    "# Evaluating the model using training data\n",
    "\n",
    "model.evaluate(Xtest, Ytest)\n",
    "\n",
    "model.evaluate(Xtrain, Ytrain)\n",
    "\n",
    "temp=model.predict(Xtest)\n",
    "result= np.zeros(temp.shape)\n",
    "result[temp>=0.5]=1\n",
    "print(temp)\n",
    "print(result)\n",
    "\n"
   ]
  },
  {
   "cell_type": "code",
   "execution_count": null,
   "metadata": {},
   "outputs": [],
   "source": []
  }
 ],
 "metadata": {
  "kernelspec": {
   "display_name": "Python 3",
   "language": "python",
   "name": "python3"
  },
  "language_info": {
   "codemirror_mode": {
    "name": "ipython",
    "version": 3
   },
   "file_extension": ".py",
   "mimetype": "text/x-python",
   "name": "python",
   "nbconvert_exporter": "python",
   "pygments_lexer": "ipython3",
   "version": "3.7.3"
  }
 },
 "nbformat": 4,
 "nbformat_minor": 2
}
